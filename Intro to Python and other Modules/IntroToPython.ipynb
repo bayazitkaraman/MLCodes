{
  "nbformat": 4,
  "nbformat_minor": 0,
  "metadata": {
    "colab": {
      "provenance": []
    },
    "kernelspec": {
      "name": "python3",
      "display_name": "Python 3"
    },
    "language_info": {
      "name": "python"
    }
  },
  "cells": [
    {
      "cell_type": "markdown",
      "source": [
        "# **Introduction to Python**\n",
        "\n",
        "*Created by Dr. Bayazit Karaman*\n",
        "\n",
        "*Content adopted from https://docs.python.org/3/tutorial/*\n",
        "\n",
        "***Python Data Types***\n",
        "\n",
        "Text Type (str), Numeric Types (int, float, complex), Sequence Types (list, tuple, range), and Mapping Type (dict)"
      ],
      "metadata": {
        "id": "AWwoxwdxCbmO"
      }
    },
    {
      "cell_type": "code",
      "execution_count": null,
      "metadata": {
        "colab": {
          "base_uri": "https://localhost:8080/"
        },
        "id": "pGYxnpltCYDE",
        "outputId": "2a7966fb-f81f-416a-9751-bff3f87e66e4"
      },
      "outputs": [
        {
          "output_type": "stream",
          "name": "stdout",
          "text": [
            "<class 'int'>\n",
            "32\n",
            "Hello World\n",
            "Hello World\n",
            "5.666666666666667\n",
            "5\n",
            "\"Yes,\" they said.\n",
            "helloworld\n",
            "Put several strings within parentheses to have them joined together.\n",
            "t\n",
            "t sev\n",
            "Put severa\n",
            "68\n"
          ]
        }
      ],
      "source": [
        "num = 6\n",
        "#or\n",
        "#num = int(6)\n",
        "\n",
        "print(type(num))\n",
        "\n",
        "print(2 ** 5) # 2^5\n",
        "\n",
        "#str\n",
        "print('Hello World')\n",
        "\n",
        "print(\"Hello World\")\n",
        "\n",
        "print(17 / 3)\n",
        "\n",
        "#float\n",
        "num2 = 4.5\n",
        "#or\n",
        "#num2 = float(4.5)\n",
        "\n",
        "# floor division discards the fractional part\n",
        "print(17 // 3)\n",
        "\n",
        "#list\n",
        "pList = [\"apple\", \"banana\", \"cherry\"]\n",
        "#or\n",
        "#pList = list((\"apple\", \"banana\", \"cherry\"))\n",
        "\n",
        "#tuple\n",
        "pTuple = (\"apple\", \"banana\", \"cherry\")\n",
        "#or\n",
        "#pTuple = tuple((\"apple\", \"banana\", \"cherry\"))\n",
        "\n",
        "#range\n",
        "pRange = range(6)\n",
        "\n",
        "#dict\n",
        "pDict = {\"name\" : \"John\", \"age\" : 36}\n",
        "#or\n",
        "#pDict = dict(name=\"John\", age=36)"
      ]
    },
    {
      "cell_type": "markdown",
      "source": [
        "***Strings***\n",
        "\n",
        "Besides numbers, Python can also manipulate strings, which can be expressed in several ways. They can be enclosed in single quotes ('...') or double quotes (\"...\") with the same result. Python strings cannot be changed — they are immutable. Therefore, assigning to an indexed position in the string results in an error:"
      ],
      "metadata": {
        "id": "4YPeSStEO8Sx"
      }
    },
    {
      "cell_type": "code",
      "source": [
        "h = 'hello'\n",
        "w = \"world\"\n",
        "\n",
        "#error! immutable object\n",
        "# w[1] = 'j'\n",
        "\n",
        "#Strings can be concatenated (glued together) with the + operator\n",
        "c = h + w;\n",
        "\n",
        "print(c)\n",
        "\n",
        "#Two or more string literals next to each other are automatically concatenated.\n",
        "text = ('Put several strings within parentheses '\n",
        "        'to have them joined together.')\n",
        "\n",
        "print(text)\n",
        "\n",
        "print(text[2])\n",
        "\n",
        "print(text[2:7]) # characters from position 2 (included) to 7 (excluded)\n",
        "\n",
        "print(text[:10]) # characters from position 0 (included) to 10 (excluded)\n",
        "\n",
        "print(len(text))\n",
        "\n",
        "print(\"\\\"Yes,\\\" they said.\")"
      ],
      "metadata": {
        "id": "lhzXpqnoPAtc"
      },
      "execution_count": null,
      "outputs": []
    },
    {
      "cell_type": "markdown",
      "source": [
        "***Python Collections (Arrays)***\n",
        "\n",
        "*   List is a collection which is ordered and changeable. Allows duplicate members.\n",
        "\n",
        "*   Tuple is a collection which is ordered and unchangeable. Allows duplicate members.\n",
        "\n",
        "*   Set is a collection which is unordered, unchangeable, and unindexed. No duplicate members.\n",
        "\n",
        "*   Dictionary is a collection which is ordered and changeable. No duplicate members.\n"
      ],
      "metadata": {
        "id": "7Zlnsa77Uhx2"
      }
    },
    {
      "cell_type": "markdown",
      "source": [
        "***Lists***\n",
        "\n",
        "Python knows a number of compound data types, used to group together other values. The most versatile is the list, which can be written as a list of comma-separated values (items) between square brackets. Unlike strings, which are immutable, lists are a mutable type, i.e. it is possible to change their content:\n",
        "\n",
        "---\n",
        "\n"
      ],
      "metadata": {
        "id": "V0JuuuDGFIUk"
      }
    },
    {
      "cell_type": "code",
      "source": [
        "squares = [1, 4, 9, 16, 25]\n",
        "\n",
        "print(squares[:])\n",
        "\n",
        "letters = ['a', 'b', 'c', 'd', 'e', 'f', 'g']\n",
        "\n",
        "#replace values\n",
        "letters[2:5] = ['C', 'D', 'E']\n",
        "\n",
        "print(letters)\n",
        "\n",
        "#remove elements\n",
        "letters[2:5] = []\n",
        "\n",
        "print(letters)\n",
        "\n",
        "letters.append('h')\n",
        "\n",
        "print(letters)\n",
        "\n",
        "print(len(letters))"
      ],
      "metadata": {
        "colab": {
          "base_uri": "https://localhost:8080/"
        },
        "id": "h4q6o5b0C8UO",
        "outputId": "9fec62ad-2caf-44dd-ce59-f87e74771200"
      },
      "execution_count": null,
      "outputs": [
        {
          "output_type": "stream",
          "name": "stdout",
          "text": [
            "[1, 4, 9, 16, 25]\n",
            "['a', 'b', 'C', 'D', 'E', 'f', 'g']\n",
            "['a', 'b', 'f', 'g']\n",
            "['a', 'b', 'f', 'g', 'h']\n",
            "5\n"
          ]
        }
      ]
    },
    {
      "cell_type": "markdown",
      "source": [
        "***Tuples***\n",
        "\n",
        "Tuples are immutable sequences, typically used to store collections of heterogeneous data.  Tuples are also used for cases where an immutable sequence of homogeneous data is needed. Tuples are better than the lists in terms of memory efficieny."
      ],
      "metadata": {
        "id": "f8XetkgyQiAn"
      }
    },
    {
      "cell_type": "code",
      "source": [
        "tuple1 = (\"apple\", \"banana\", \"cherry\")\n",
        "\n",
        "tuple2 = (\"abc\", 34, True, 40, \"male\")"
      ],
      "metadata": {
        "id": "qPuoj4YvSAwM"
      },
      "execution_count": null,
      "outputs": []
    },
    {
      "cell_type": "markdown",
      "source": [
        "***Ranges***\n",
        "\n",
        "The range type represents an immutable sequence of numbers and is commonly used for looping a specific number of times in for loops."
      ],
      "metadata": {
        "id": "WxPnu_8uRAO1"
      }
    },
    {
      "cell_type": "code",
      "source": [
        "#If you do need to iterate over a sequence of numbers,\n",
        "#the built-in function range() comes in handy.\n",
        "\n",
        "for i in range(5):\n",
        "    print(i)\n",
        "\n",
        "\n",
        "myList = list(range(5, 10))\n",
        "print(myList)\n",
        "\n",
        "myList2 = list(range(0, 10, 3))\n",
        "print(myList2)\n",
        "\n",
        "a = ['Hello', 'How', 'are', 'you', '?']\n",
        "\n",
        "for i in range(len(a)):\n",
        "    print(i, a[i])"
      ],
      "metadata": {
        "id": "IXXjX5CDXnOt"
      },
      "execution_count": null,
      "outputs": []
    },
    {
      "cell_type": "markdown",
      "source": [
        "***Dictionaries***\n",
        "\n",
        "Another useful data type built into Python is the dictionary. Dictionaries are sometimes found in other languages as “associative memories” or “associative arrays”. Unlike sequences, which are indexed by a range of numbers, dictionaries are indexed by keys, which can be any immutable type; strings and numbers can always be keys. Tuples can be used as keys if they contain only strings, numbers, or tuples; if a tuple contains any mutable object either directly or indirectly, it cannot be used as a key. You can’t use lists as keys, since lists can be modified in place using index assignments."
      ],
      "metadata": {
        "id": "bDZExbhlVuu1"
      }
    },
    {
      "cell_type": "code",
      "source": [
        "tel = {'jack': 4098, 'sape': 4139}\n",
        "\n",
        "tel['guido'] = 4127\n",
        "\n",
        "print(tel)\n",
        "\n",
        "del tel['sape']\n",
        "\n",
        "print(tel)\n",
        "\n",
        "print('guido' in tel)\n",
        "\n",
        "print('jack' not in tel)\n",
        "\n",
        "knights = {'gallahad': 'the pure', 'robin': 'the brave'}\n",
        "for k, v in knights.items():\n",
        "    print(k, v)\n",
        "\n",
        "for i, v in enumerate(['tic', 'tac', 'toe']):\n",
        "    print(i, v)"
      ],
      "metadata": {
        "colab": {
          "base_uri": "https://localhost:8080/"
        },
        "id": "MLpflIcSWNFK",
        "outputId": "15f03845-6b6f-400c-e421-932769b7aeeb"
      },
      "execution_count": null,
      "outputs": [
        {
          "output_type": "stream",
          "name": "stdout",
          "text": [
            "{'jack': 4098, 'sape': 4139, 'guido': 4127}\n",
            "{'jack': 4098, 'guido': 4127}\n",
            "True\n",
            "False\n",
            "gallahad the pure\n",
            "robin the brave\n"
          ]
        }
      ]
    },
    {
      "cell_type": "markdown",
      "source": [
        "***Sets***\n",
        "\n",
        "Python also includes a data type for sets. A set is an unordered collection with no duplicate elements. Basic uses include membership testing and eliminating duplicate entries. Set objects also support mathematical operations like union, intersection, difference, and symmetric difference."
      ],
      "metadata": {
        "id": "HP-ank9QZ5kM"
      }
    },
    {
      "cell_type": "code",
      "source": [
        "basket = {'apple', 'orange', 'apple', 'pear', 'orange', 'banana'}\n",
        "\n",
        "print(basket)\n",
        "\n",
        "print('orange' in basket)\n",
        "\n",
        "a = set('abracadabra')\n",
        "\n",
        "print(a)"
      ],
      "metadata": {
        "colab": {
          "base_uri": "https://localhost:8080/"
        },
        "id": "IhMxdabha5Sf",
        "outputId": "f465a8b9-ee08-46cb-fb92-44a1a4851a29"
      },
      "execution_count": null,
      "outputs": [
        {
          "output_type": "stream",
          "name": "stdout",
          "text": [
            "{'orange', 'banana', 'apple', 'pear'}\n",
            "True\n",
            "{'c', 'b', 'a', 'r', 'd'}\n"
          ]
        }
      ]
    },
    {
      "cell_type": "markdown",
      "source": [
        "\n",
        "\n",
        "1.   List -> allowing ***duplicates***, ***mutable***, and ***ordered*** data\n",
        "2.   Tuple -> allowing ***duplicates***, ***immutable***, and ***ordered*** data\n",
        "3.   Dictionaries -> ***not*** allowing ***duplicates*** for uniqe keys (values can be duplicated), ***mutable***, and ***un-ordered*** data\n",
        "4.   Sets -> ***not*** allowing ***duplicates***, ***mutable***, and ***un-ordered*** data\n",
        "\n"
      ],
      "metadata": {
        "id": "jXwGfVZPe6H5"
      }
    },
    {
      "cell_type": "markdown",
      "source": [
        "***Loops and if statements***\n",
        "\n",
        "The for statement in Python differs a bit from what you may be used to in C or Pascal. Rather than always iterating over an arithmetic progression of numbers (like in Pascal), or giving the user the ability to define both the iteration step and halting condition (as C), Python’s for statement iterates over the items of any sequence (a list or a string), in the order that they appear in the sequence."
      ],
      "metadata": {
        "id": "lK05DyoJ-A9K"
      }
    },
    {
      "cell_type": "code",
      "source": [
        "#Loops\n",
        "\n",
        "#multiple assignment\n",
        "sum, num = 0, 1\n",
        "\n",
        "while sum < 10:\n",
        "  print(sum)\n",
        "  sum = num\n",
        "  num = sum+num\n",
        "\n",
        "#list (words)\n",
        "words = ['cat', 'window', 'defenestrate']\n",
        "\n",
        "for w in words:\n",
        "    print(w, len(w))\n",
        "\n",
        "#If statements\n",
        "\n",
        "x = int(input(\"Please enter an integer: \"))\n",
        "\n",
        "if x < 0:\n",
        "    x = 0\n",
        "    print('Negative changed to zero')\n",
        "elif x == 0:\n",
        "    print('Zero')\n",
        "elif x == 1:\n",
        "    print('Single')\n",
        "else:\n",
        "    print('More')"
      ],
      "metadata": {
        "colab": {
          "base_uri": "https://localhost:8080/"
        },
        "id": "YzPlf8NNHS51",
        "outputId": "c34d6e0f-baa0-4460-c843-9cc5da1626a3"
      },
      "execution_count": null,
      "outputs": [
        {
          "output_type": "stream",
          "name": "stdout",
          "text": [
            "0\n",
            "1\n",
            "2\n",
            "4\n",
            "8\n",
            "cat 3\n",
            "window 6\n",
            "defenestrate 12\n",
            "Please enter an integer: 5\n",
            "More\n"
          ]
        }
      ]
    },
    {
      "cell_type": "markdown",
      "source": [
        "***Defining Functions***\n",
        "\n",
        "The keyword def introduces a function definition. It must be followed by the function name and the parenthesized list of formal parameters. The statements that form the body of the function start at the next line, and must be indented."
      ],
      "metadata": {
        "id": "kmE1NJIaCIxS"
      }
    },
    {
      "cell_type": "code",
      "source": [
        "def main():\n",
        "  print(max(10, 24))\n",
        "\n",
        "def max(num1, num2):\n",
        "  if num1 > num2:\n",
        "    return num1\n",
        "  else:\n",
        "    return num2\n",
        "\n",
        "main()"
      ],
      "metadata": {
        "colab": {
          "base_uri": "https://localhost:8080/"
        },
        "id": "3JK-6iQfSCyt",
        "outputId": "9b654aa5-1974-449f-de7a-98becfe626c6"
      },
      "execution_count": null,
      "outputs": [
        {
          "output_type": "stream",
          "name": "stdout",
          "text": [
            "24\n"
          ]
        }
      ]
    },
    {
      "cell_type": "code",
      "source": [
        "def fib(n):    # write Fibonacci series up to n\n",
        "    #this string literal is the function’s documentation string, or docstring.\n",
        "    \"\"\"Print a Fibonacci series up to n.\"\"\"\n",
        "    a, b = 0, 1\n",
        "    while a < n:\n",
        "        print(a, end=' ')\n",
        "        a, b = b, a+b\n",
        "        print() #next line\n",
        "\n",
        "fib(100)\n",
        "\n",
        "def fib2(n):  # return Fibonacci series up to n\n",
        "    \"\"\"Return a list containing the Fibonacci series up to n.\"\"\"\n",
        "    result = []\n",
        "    a, b = 0, 1\n",
        "    while a < n:\n",
        "        result.append(a)    # see below\n",
        "        a, b = b, a+b\n",
        "    return result\n",
        "\n",
        "f100 = fib2(100)\n",
        "print(f100)\n",
        "\n",
        "def swap(x, y):\n",
        "  \"\"\"Swap and returns two variables\"\"\"\n",
        "  temp = x\n",
        "  x = y\n",
        "  y = temp\n",
        "  return x, y\n",
        "\n",
        "first, second = swap(3,5)\n",
        "\n",
        "print(first)\n",
        "print(second)"
      ],
      "metadata": {
        "colab": {
          "base_uri": "https://localhost:8080/"
        },
        "id": "r_M4dJPD_VKO",
        "outputId": "911d3b6d-bb68-4196-cd81-24c2e718061e"
      },
      "execution_count": null,
      "outputs": [
        {
          "output_type": "stream",
          "name": "stdout",
          "text": [
            "0 \n",
            "1 \n",
            "1 \n",
            "2 \n",
            "3 \n",
            "5 \n",
            "8 \n",
            "13 \n",
            "21 \n",
            "34 \n",
            "55 \n",
            "89 \n",
            "[0, 1, 1, 2, 3, 5, 8, 13, 21, 34, 55, 89]\n",
            "5\n",
            "3\n"
          ]
        }
      ]
    },
    {
      "cell_type": "markdown",
      "source": [
        "***Classes and Objects***\n",
        "\n",
        "Classes provide a means of bundling data and functionality together. Creating a new class creates a new type of object, allowing new instances of that type to be made. Each class instance can have attributes attached to it for maintaining its state. Class instances can also have methods (defined by its class) for modifying its state.\n",
        "\n",
        "\n",
        "\n",
        "Generally speaking, instance variables are for data unique to each instance and class variables are for attributes and methods shared by all instances of the class:"
      ],
      "metadata": {
        "id": "7cfW84ncjZAB"
      }
    },
    {
      "cell_type": "code",
      "source": [
        "class Person:\n",
        "  \"\"\"Person Class\"\"\"\n",
        "  def __init__(self, fname, lname):\n",
        "    self.firstname = fname\n",
        "    self.lastname = lname\n",
        "\n",
        "  def printname(self):\n",
        "    print(self.firstname, self.lastname)\n",
        "\n",
        "#Use the Person class to create an object, and then execute the printname method:\n",
        "\n",
        "x = Person(\"John\", \"Doe\")\n",
        "x.printname()\n",
        "\n",
        "\n",
        "class Student(Person):\n",
        "  \"\"\"Student class inherits from Person class\"\"\"\n",
        "  def __init__(self, fname, lname, year):\n",
        "    #or Person.__init__(fname, lname)\n",
        "    super().__init__(fname, lname)\n",
        "    self.graduationyear = year\n",
        "\n",
        "  def welcome(self):\n",
        "    print(\"Welcome\", self.firstname, self.lastname, \"to the class of\", self.graduationyear)\n",
        "\n",
        "y = Student(\"Mike\", \"Olsen\", 2019)\n",
        "y.welcome()\n",
        "\n",
        "\n",
        "class Dog:\n",
        "\n",
        "    kind = 'canine'         # class variable shared by all instances\n",
        "\n",
        "    def __init__(self, name):\n",
        "        self.name = name    # instance variable unique to each instance\n",
        "\n",
        "d = Dog('Fido')\n",
        "e = Dog('Buddy')\n",
        "\n",
        "print(d.kind)\n",
        "print(e.name)\n",
        "\n",
        "\n",
        "class Dog2:\n",
        "\n",
        "    def __init__(self, name):\n",
        "        self.name = name\n",
        "        self.tricks = []    # creates a new empty list for each dog\n",
        "\n",
        "    def add_trick(self, trick):\n",
        "        self.tricks.append(trick)\n",
        "\n",
        "d2 = Dog2('Fido')\n",
        "d2.add_trick('roll over')\n",
        "d2.add_trick('play dead')\n",
        "\n",
        "for i in d2.tricks:\n",
        "  print(i)\n"
      ],
      "metadata": {
        "colab": {
          "base_uri": "https://localhost:8080/"
        },
        "id": "lS-H5hr3dtxi",
        "outputId": "7c6b5eaa-4e22-48f9-c9dc-c12f442ea76a"
      },
      "execution_count": null,
      "outputs": [
        {
          "output_type": "stream",
          "name": "stdout",
          "text": [
            "John Doe\n",
            "Welcome Mike Olsen to the class of 2019\n",
            "canine\n",
            "Buddy\n",
            "roll over\n",
            "play dead\n"
          ]
        }
      ]
    },
    {
      "cell_type": "markdown",
      "source": [
        "***Modules***\n",
        "\n",
        "A module is a file containing Python definitions and statements. The file name is the module name with the suffix .py appended."
      ],
      "metadata": {
        "id": "T9GqQRcvB4Ng"
      }
    },
    {
      "cell_type": "code",
      "source": [
        "#Examples show how to import modules\n",
        "\n",
        "import matplotlib.pyplot as plt\n",
        "\n",
        "import numpy as np\n",
        "\n",
        "import pandas as pd\n",
        "\n",
        "from google.colab import drive"
      ],
      "metadata": {
        "id": "gyDNvxihC_cR"
      },
      "execution_count": null,
      "outputs": []
    }
  ]
}