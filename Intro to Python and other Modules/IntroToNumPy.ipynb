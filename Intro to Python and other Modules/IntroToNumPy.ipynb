{
  "nbformat": 4,
  "nbformat_minor": 0,
  "metadata": {
    "colab": {
      "provenance": []
    },
    "kernelspec": {
      "name": "python3",
      "display_name": "Python 3"
    },
    "language_info": {
      "name": "python"
    }
  },
  "cells": [
    {
      "cell_type": "markdown",
      "source": [
        "# **Introduction to NumPy Library**\n",
        "\n",
        "*Created by Dr. Bayazit Karaman*\n",
        "\n",
        "*Content adopted from https://numpy.org/doc/stable/user/absolute_beginners.html*"
      ],
      "metadata": {
        "id": "Cp0Sxh7FErW6"
      }
    },
    {
      "cell_type": "markdown",
      "source": [
        "***What is NumPy?***\n",
        "\n",
        "NumPy (Numerical Python) is an open source Python library that’s used in almost every field of science and engineering. It’s the universal standard for working with numerical data in Python, and it’s at the core of the scientific Python and PyData ecosystems. The NumPy library contains multidimensional array and matrix data structures (you’ll find more information about this in later sections). It provides ndarray, a homogeneous n-dimensional array object, with methods to efficiently operate on it. NumPy can be used to perform a wide variety of mathematical operations on arrays. It adds powerful data structures to Python that guarantee efficient calculations with arrays and matrices and it supplies an enormous library of high-level mathematical functions that operate on these arrays and matrices."
      ],
      "metadata": {
        "id": "x02IQwFdFbJ_"
      }
    },
    {
      "cell_type": "markdown",
      "source": [
        "***What is an array?***\n",
        "\n",
        "An array is a central data structure of the NumPy library. An array is a grid of values and it contains information about the raw data, how to locate an element, and how to interpret an element.  It has a grid of elements that can be indexed in various ways. The elements are all of the same type, referred to as the array dtype.\n",
        "\n",
        "An array can be indexed by a tuple of nonnegative integers, by booleans, by another array, or by integers. The rank of the array is the number of dimensions. The shape of the array is a tuple of integers giving the size of the array along each dimension."
      ],
      "metadata": {
        "id": "pLW5KddhGIX7"
      }
    },
    {
      "cell_type": "code",
      "source": [
        "import numpy as np\n",
        "\n",
        "print(np.linspace(0, 10, num=10))"
      ],
      "metadata": {
        "colab": {
          "base_uri": "https://localhost:8080/"
        },
        "id": "vMhBm_UnXkDf",
        "outputId": "496bda1b-b86e-4eee-deef-cc83313316dc"
      },
      "execution_count": null,
      "outputs": [
        {
          "output_type": "stream",
          "name": "stdout",
          "text": [
            "[ 0.          1.11111111  2.22222222  3.33333333  4.44444444  5.55555556\n",
            "  6.66666667  7.77777778  8.88888889 10.        ]\n"
          ]
        }
      ]
    },
    {
      "cell_type": "code",
      "execution_count": null,
      "metadata": {
        "colab": {
          "base_uri": "https://localhost:8080/"
        },
        "id": "kvXJb5RPEZvS",
        "outputId": "f723b353-7fbc-4096-c15a-2be5c04be9c3"
      },
      "outputs": [
        {
          "output_type": "stream",
          "name": "stdout",
          "text": [
            "[1 2 3]\n",
            "[[ 1  2  3  4]\n",
            " [ 5  6  7  8]\n",
            " [ 9 10 11 12]]\n",
            "[1 2 3 4]\n",
            "[0. 0.]\n",
            "[1. 1. 1.]\n",
            "[0. 0.]\n",
            "[0 1 2 3]\n",
            "[2 4 6 8]\n",
            "[ 0.   2.5  5.   7.5 10. ]\n",
            "[1 1]\n"
          ]
        }
      ],
      "source": [
        "import numpy as np\n",
        "\n",
        "a = np.array([1, 2, 3])\n",
        "\n",
        "print(a)\n",
        "\n",
        "b = np.array([[1, 2, 3, 4], [5, 6, 7, 8], [9, 10, 11, 12]])\n",
        "\n",
        "print(b)\n",
        "\n",
        "print(b[0])\n",
        "\n",
        "print(np.zeros(2))\n",
        "\n",
        "print(np.ones(3))\n",
        "\n",
        "print(np.empty(2))\n",
        "\n",
        "#You can create an array with a range of elements:\n",
        "print(np.arange(4))\n",
        "\n",
        "#And even an array that contains a range of evenly spaced intervals. To do this, you will specify the first number, last number, and the step size.\n",
        "print(np.arange(2, 9, 2))\n",
        "\n",
        "#You can also use np.linspace() to create an array with values that are spaced linearly in a specified interval:\n",
        "print(np.linspace(0, 10, num=5))\n",
        "\n",
        "#Specifying your data type to int (default is float)\n",
        "print(np.ones(2, dtype=np.int64))"
      ]
    },
    {
      "cell_type": "markdown",
      "source": [
        "***Adding, removing, and sorting elements***\n",
        "\n"
      ],
      "metadata": {
        "id": "vA7Qd2YFHziN"
      }
    },
    {
      "cell_type": "code",
      "source": [
        "arr = np.array([2, 1, 5, 3, 7, 4, 6, 8])\n",
        "print(np.sort(arr))\n",
        "\n",
        "a = np.array([1, 2, 3, 4])\n",
        "b = np.array([5, 6, 7, 8])\n",
        "\n",
        "print(np.concatenate((a, b)))"
      ],
      "metadata": {
        "colab": {
          "base_uri": "https://localhost:8080/"
        },
        "id": "PLNLa7E2H0DL",
        "outputId": "3e4fe677-55fe-4e20-ad0e-7bf4debbc12a"
      },
      "execution_count": null,
      "outputs": [
        {
          "output_type": "stream",
          "name": "stdout",
          "text": [
            "[1 2 3 4 5 6 7 8]\n",
            "[1 2 3 4 5 6 7 8]\n"
          ]
        }
      ]
    },
    {
      "cell_type": "markdown",
      "source": [
        "***Shape and size of an array***\n",
        "\n",
        "ndarray.ndim will tell you the number of axes, or dimensions, of the array.\n",
        "\n",
        "ndarray.size will tell you the total number of elements of the array. This is the product of the elements of the array’s shape.\n",
        "\n",
        "ndarray.shape will display a tuple of integers that indicate the number of elements stored along each dimension of the array. If, for example, you have a 2-D array with 2 rows and 3 columns, the shape of your array is (2, 3)."
      ],
      "metadata": {
        "id": "k4RqoElrI6Yx"
      }
    },
    {
      "cell_type": "code",
      "source": [
        "array_example = np.array([[[0, 1, 2, 3],\n",
        "                           [4, 5, 6, 7]],\n",
        "\n",
        "                          [[0, 1, 2, 3],\n",
        "                           [4, 5, 6, 7]],\n",
        "\n",
        "                          [[0 ,1 ,2, 3],\n",
        "                           [4, 5, 6, 7]]])\n",
        "\n",
        "print(array_example)\n",
        "\n",
        "print(array_example.ndim)\n",
        "\n",
        "print(array_example.size)\n",
        "\n",
        "print(array_example.shape)\n",
        "\n",
        "#Reshape of the array\n",
        "arr1 = np.array([1, 2, 3, 4, 5, 6])\n",
        "print(arr1)\n",
        "\n",
        "arr2 = arr1.reshape(3, 2)\n",
        "print(arr2)"
      ],
      "metadata": {
        "colab": {
          "base_uri": "https://localhost:8080/"
        },
        "id": "QpElK91AI6oa",
        "outputId": "8d232337-773b-451b-caf0-95c8309b3f23"
      },
      "execution_count": null,
      "outputs": [
        {
          "output_type": "stream",
          "name": "stdout",
          "text": [
            "[[[0 1 2 3]\n",
            "  [4 5 6 7]]\n",
            "\n",
            " [[0 1 2 3]\n",
            "  [4 5 6 7]]\n",
            "\n",
            " [[0 1 2 3]\n",
            "  [4 5 6 7]]]\n",
            "3\n",
            "24\n",
            "(3, 2, 4)\n",
            "[1 2 3 4 5 6]\n",
            "[[1 2]\n",
            " [3 4]\n",
            " [5 6]]\n"
          ]
        }
      ]
    },
    {
      "cell_type": "markdown",
      "source": [
        "***How to convert a 1D array into a 2D array?***\n",
        "\n",
        "You can use np.newaxis and np.expand_dims to increase the dimensions of your existing array.\n",
        "\n",
        "Using np.newaxis will increase the dimensions of your array by one dimension when used once. This means that a 1D array will become a 2D array, a 2D array will become a 3D array, and so on."
      ],
      "metadata": {
        "id": "zV0XyU9VMEaB"
      }
    },
    {
      "cell_type": "code",
      "source": [
        "a = np.array([1, 2, 3, 4, 5, 6])\n",
        "\n",
        "print(a)\n",
        "\n",
        "a2 = a[np.newaxis, :]\n",
        "\n",
        "print(a2)\n",
        "\n",
        "print(a.ndim)\n",
        "\n",
        "print(a2.ndim)\n",
        "\n",
        "#You can also expand an array by inserting a new axis at a specified position with np.expand_dims.\n",
        "t = np.array([1, 2, 3, 4, 5, 6])\n",
        "print(t.ndim)\n",
        "\n",
        "#You can use np.expand_dims to add an axis at index position 1 with:\n",
        "y = np.expand_dims(t, axis=1)\n",
        "print(y.ndim)"
      ],
      "metadata": {
        "colab": {
          "base_uri": "https://localhost:8080/"
        },
        "id": "8MNSlPYsMkGZ",
        "outputId": "14d8461a-a824-4ee6-b688-96acb47d131d"
      },
      "execution_count": null,
      "outputs": [
        {
          "output_type": "stream",
          "name": "stdout",
          "text": [
            "[1 2 3 4 5 6]\n",
            "[[1 2 3 4 5 6]]\n",
            "1\n",
            "2\n",
            "1\n",
            "2\n"
          ]
        }
      ]
    },
    {
      "cell_type": "markdown",
      "source": [
        "***Indexing and slicing***\n",
        "\n",
        "You can index and slice NumPy arrays in the same ways you can slice Python lists.\n",
        "\n"
      ],
      "metadata": {
        "id": "tDa3HeiNQTDZ"
      }
    },
    {
      "cell_type": "code",
      "source": [
        "data = np.array([1, 2, 3, 4, 5, 6])\n",
        "\n",
        "print(data[1])\n",
        "\n",
        "print(data[1:])\n",
        "\n",
        "print(data[:5])\n",
        "\n",
        "a = np.array([[1 , 2, 3, 4], [5, 6, 7, 8], [9, 10, 11, 12]])\n",
        "\n",
        "#You can easily print all of the values in the array that are less than 5.\n",
        "print(a[a < 5])\n",
        "\n",
        "#You can select elements that satisfy two conditions using the & and | operators:\n",
        "c = a[(a > 2) & (a < 11)]\n",
        "\n",
        "print(c)\n",
        "\n",
        "#You can use np.nonzero() to print the indices of elements that are\n",
        "b = np.nonzero(a < 5)\n",
        "\n",
        "print(b)\n",
        "\n",
        "#If you want to generate a list of coordinates where the elements exist, you can zip the arrays,\n",
        "#iterate over the list of coordinates, and print them.\n",
        "list_of_coordinates= list(zip(b[0], b[1]))\n",
        "\n",
        "for coord in list_of_coordinates:\n",
        "    print(coord)\n"
      ],
      "metadata": {
        "id": "0xINU8Q5OsIh",
        "colab": {
          "base_uri": "https://localhost:8080/"
        },
        "outputId": "58eafd14-bf07-4889-bf09-560f966d3be1"
      },
      "execution_count": null,
      "outputs": [
        {
          "output_type": "stream",
          "name": "stdout",
          "text": [
            "2\n",
            "[2 3 4 5 6]\n",
            "[1 2 3 4 5]\n",
            "[1 2 3 4]\n",
            "[ 3  4  5  6  7  8  9 10]\n",
            "(array([0, 0, 0, 0]), array([0, 1, 2, 3]))\n",
            "(0, 0)\n",
            "(0, 1)\n",
            "(0, 2)\n",
            "(0, 3)\n"
          ]
        }
      ]
    },
    {
      "cell_type": "markdown",
      "source": [
        "***Create an array from existing data***\n",
        "\n",
        "You can easily create a new array from a section of an existing array. You can create a new array from a section of your array any time by specifying where you want to slice your array."
      ],
      "metadata": {
        "id": "cax_qrMVfWAP"
      }
    },
    {
      "cell_type": "code",
      "source": [
        "a1 = np.array([[1, 1],\n",
        "               [2, 2]])\n",
        "\n",
        "a2 = np.array([[3, 3],\n",
        "               [4, 4]])\n",
        "\n",
        "#You can stack them vertically with vstack:\n",
        "print(np.vstack((a1, a2)))\n",
        "\n",
        "#Or stack them horizontally with hstack:\n",
        "print(np.hstack((a1, a2)))\n",
        "\n",
        "x = np.arange(1, 25).reshape(2, 12)\n",
        "print(x)\n",
        "\n",
        "a = np.array([[1, 2, 3, 4], [5, 6, 7, 8], [9, 10, 11, 12]])\n",
        "\n",
        "#we create an array b1 by slicing a and modify the first element of b1.\n",
        "b1 = a[0, :]\n",
        "print(b1)\n",
        "\n",
        "b1[0] = 99\n",
        "print(b1)\n",
        "\n",
        "#This will modify the corresponding element in a as well!\n",
        "print(a)\n",
        "\n",
        "#Using the copy method will make a complete copy of the array and its data (a deep copy).\n",
        "b2 = a.copy()"
      ],
      "metadata": {
        "colab": {
          "base_uri": "https://localhost:8080/"
        },
        "id": "6VfliY8ZiFzp",
        "outputId": "6430e231-c331-4d9f-9463-8df62fc1853a"
      },
      "execution_count": null,
      "outputs": [
        {
          "output_type": "stream",
          "name": "stdout",
          "text": [
            "[[1 1]\n",
            " [2 2]\n",
            " [3 3]\n",
            " [4 4]]\n",
            "[[1 1 3 3]\n",
            " [2 2 4 4]]\n",
            "[[ 1  2  3  4  5  6  7  8  9 10 11 12]\n",
            " [13 14 15 16 17 18 19 20 21 22 23 24]]\n",
            "[1 2 3 4]\n",
            "[99  2  3  4]\n",
            "[[99  2  3  4]\n",
            " [ 5  6  7  8]\n",
            " [ 9 10 11 12]]\n"
          ]
        }
      ]
    },
    {
      "cell_type": "markdown",
      "source": [
        "***Basic array operations***\n",
        "\n",
        "Once you’ve created your arrays, you can start to work with them. Let’s say, for example, that you’ve created two arrays, one called “data” and one called “ones”. You can add the arrays together with the plus sign."
      ],
      "metadata": {
        "id": "YYJFmB-YgDJ7"
      }
    },
    {
      "cell_type": "code",
      "source": [
        "data = np.array([1, 2])\n",
        "\n",
        "ones = np.ones(2, dtype=int)\n",
        "\n",
        "sum = data + ones\n",
        "\n",
        "print(sum)\n",
        "\n",
        "subs = data - ones\n",
        "\n",
        "print(subs)\n",
        "\n",
        "mult = data * data\n",
        "\n",
        "print(mult)\n",
        "\n",
        "div = data / data\n",
        "\n",
        "print(div)\n",
        "\n",
        "#sum\n",
        "a = np.array([1, 2, 3, 4])\n",
        "\n",
        "print(a.sum())\n",
        "\n",
        "b = np.array([[1, 1], [2, 2]])\n",
        "\n",
        "#You can sum over the axis of rows with:\n",
        "print(b.sum(axis=0))\n",
        "\n",
        "#You can sum over the axis of columns with:\n",
        "print(b.sum(axis=1))"
      ],
      "metadata": {
        "id": "FKquR1fcgB8B",
        "colab": {
          "base_uri": "https://localhost:8080/"
        },
        "outputId": "f88dea1f-d45d-4124-8099-61a506507731"
      },
      "execution_count": null,
      "outputs": [
        {
          "output_type": "stream",
          "name": "stdout",
          "text": [
            "[2 3]\n",
            "[0 1]\n",
            "[1 4]\n",
            "[1. 1.]\n",
            "10\n",
            "[3 3]\n",
            "[2 4]\n"
          ]
        }
      ]
    },
    {
      "cell_type": "markdown",
      "source": [
        "***Broadcasting***\n",
        "\n",
        "There are times when you might want to carry out an operation between an array and a single number (also called an operation between a vector and a scalar) or between arrays of two different sizes."
      ],
      "metadata": {
        "id": "x-587zSPhdm-"
      }
    },
    {
      "cell_type": "code",
      "source": [
        "data = np.array([1.0, 2.0])\n",
        "\n",
        "#NumPy understands that the multiplication should happen with each cell. That concept is called broadcasting.\n",
        "newData = data * 1.6\n",
        "\n",
        "print(newData)\n",
        "\n"
      ],
      "metadata": {
        "id": "LC5ocal6hl97",
        "colab": {
          "base_uri": "https://localhost:8080/"
        },
        "outputId": "61ff0c5c-bdc1-421a-ba06-d7a6a0cff34b"
      },
      "execution_count": null,
      "outputs": [
        {
          "output_type": "stream",
          "name": "stdout",
          "text": [
            "[1.6 3.2]\n"
          ]
        }
      ]
    },
    {
      "cell_type": "markdown",
      "source": [
        "***Matrices***\n",
        "\n",
        "Indexing and slicing operations are useful when you’re manipulating matrices."
      ],
      "metadata": {
        "id": "SZvjP2VckafY"
      }
    },
    {
      "cell_type": "code",
      "source": [
        "data = np.array([[1, 2], [3, 4], [5, 6]])\n",
        "\n",
        "print(data)\n",
        "\n",
        "print(data[0:2, 0])\n",
        "\n",
        "print(data.max())\n",
        "\n",
        "print(data.max(axis=0))\n",
        "\n",
        "print(data.max(axis=1))\n",
        "\n",
        "print(data.sum())\n",
        "\n",
        "print(np.ones((4, 3, 2)))\n",
        "\n",
        "a = np.array([11, 11, 12, 13, 14, 15, 16, 17, 12, 13, 11, 14, 18, 19, 20])\n",
        "\n",
        "unique_values = np.unique(a)\n",
        "print(unique_values)"
      ],
      "metadata": {
        "colab": {
          "base_uri": "https://localhost:8080/"
        },
        "id": "6Xuutv3iki5u",
        "outputId": "d390277c-7795-481f-b6bb-4ac69e07c0ac"
      },
      "execution_count": null,
      "outputs": [
        {
          "output_type": "stream",
          "name": "stdout",
          "text": [
            "[[1 2]\n",
            " [3 4]\n",
            " [5 6]]\n",
            "[1 3]\n",
            "6\n",
            "[5 6]\n",
            "[2 4 6]\n",
            "21\n",
            "[[[1. 1.]\n",
            "  [1. 1.]\n",
            "  [1. 1.]]\n",
            "\n",
            " [[1. 1.]\n",
            "  [1. 1.]\n",
            "  [1. 1.]]\n",
            "\n",
            " [[1. 1.]\n",
            "  [1. 1.]\n",
            "  [1. 1.]]\n",
            "\n",
            " [[1. 1.]\n",
            "  [1. 1.]\n",
            "  [1. 1.]]]\n",
            "[11 12 13 14 15 16 17 18 19 20]\n"
          ]
        }
      ]
    },
    {
      "cell_type": "markdown",
      "source": [
        "***Transposing and reshaping a matrix***\n",
        "\n",
        "It’s common to need to transpose your matrices. NumPy arrays have the property T that allows you to transpose a matrix. You may also need to switch the dimensions of a matrix. This can happen when, for example, you have a model that expects a certain input shape that is different from your dataset. This is where the reshape method can be useful. You simply need to pass in the new dimensions that you want for the matrix.\n",
        "\n",
        "You can also use .transpose() to reverse or change the axes of an array according to the values you specify."
      ],
      "metadata": {
        "id": "lUhXEptdZ3aq"
      }
    },
    {
      "cell_type": "code",
      "source": [
        "data = np.array([1, 2, 3, 4, 5, 6])\n",
        "print(data)\n",
        "\n",
        "data1 = data.reshape(2, 3)\n",
        "print(data1)\n",
        "\n",
        "data2 = data.reshape(3, 2)\n",
        "print(data2)\n",
        "\n",
        "arr = np.arange(6).reshape((2, 3))\n",
        "print(arr)\n",
        "\n",
        "arr1 = arr.transpose()\n",
        "print(arr1)\n",
        "\n",
        "#Reverse an array\n",
        "arr = np.array([1, 2, 3, 4, 5, 6, 7, 8])\n",
        "\n",
        "reversed_arr = np.flip(arr)\n",
        "print('Reversed Array: ', reversed_arr)\n",
        "\n",
        "#2D array\n",
        "arr_2d = np.array([[1, 2, 3, 4], [5, 6, 7, 8], [9, 10, 11, 12]])\n",
        "\n",
        "reversed_arr2d = np.flip(arr_2d)\n",
        "print('Reversed Array: ', reversed_arr2d)\n"
      ],
      "metadata": {
        "colab": {
          "base_uri": "https://localhost:8080/"
        },
        "id": "oaQDRogiaHza",
        "outputId": "5aba8092-ce19-49b6-b2a3-e1b02ad9819f"
      },
      "execution_count": null,
      "outputs": [
        {
          "output_type": "stream",
          "name": "stdout",
          "text": [
            "[1 2 3 4 5 6]\n",
            "[[1 2 3]\n",
            " [4 5 6]]\n",
            "[[1 2]\n",
            " [3 4]\n",
            " [5 6]]\n",
            "[[0 1 2]\n",
            " [3 4 5]]\n",
            "[[0 3]\n",
            " [1 4]\n",
            " [2 5]]\n",
            "Reversed Array:  [8 7 6 5 4 3 2 1]\n",
            "Reversed Array:  [[12 11 10  9]\n",
            " [ 8  7  6  5]\n",
            " [ 4  3  2  1]]\n"
          ]
        }
      ]
    }
  ]
}